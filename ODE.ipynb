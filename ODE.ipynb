{
 "cells": [
  {
   "cell_type": "code",
   "execution_count": 1,
   "source": [
    "import math"
   ],
   "outputs": [],
   "metadata": {}
  },
  {
   "cell_type": "markdown",
   "source": [
    "# Ordinary Differencial Equations"
   ],
   "metadata": {}
  },
  {
   "cell_type": "code",
   "execution_count": 2,
   "source": [
    "from ode import (\n",
    "    taylor_method,\n",
    "    euler_method,\n",
    "    euler_modified_method,\n",
    "    runge_kutta_method_o2,\n",
    "    runge_kutta_method_o4,\n",
    "    milne_predictor_corrector_method\n",
    ")"
   ],
   "outputs": [],
   "metadata": {}
  },
  {
   "cell_type": "markdown",
   "source": [
    "## Taylor's Method\n",
    "\n",
    "### $y(x) = y_0 + (x-x_0)(y_1)_0 + \\frac{(x-x_0)^2}{2!}(y_2)_0 + \\frac{(x-x_0)^3}{3!}(y_3)_0 + \\frac{(x-x_0)^4}{4!}(y_4)_0 + ...$  \n",
    "\n",
    "where,  \n",
    "\n",
    "### $(y_1)_0 = (\\frac{dy}{dx})_{x=x_0}$,  \n",
    "\n",
    "### $(y_2)_0 = (\\frac{d^2y}{dx^2})_{x=x_0}$,  \n",
    "\n",
    "### $(y_3)_0 = (\\frac{d^3y}{dx^3})_{x=x_0}$"
   ],
   "metadata": {}
  },
  {
   "cell_type": "code",
   "execution_count": 3,
   "source": [
    "y = [2/math.pi]\n",
    "y.append(y[0]**3 + 2)\n",
    "y.append(3*y[0]**2*y[-1])"
   ],
   "outputs": [],
   "metadata": {}
  },
  {
   "cell_type": "code",
   "execution_count": 4,
   "source": [
    "taylor_method(y, x0=0, x=0.2)"
   ],
   "outputs": [
    {
     "output_type": "execute_result",
     "data": {
      "text/plain": [
       "1.1431305018036853"
      ]
     },
     "metadata": {},
     "execution_count": 4
    }
   ],
   "metadata": {}
  },
  {
   "cell_type": "markdown",
   "source": [
    "## Picard's method\n",
    "\n",
    "### $y_{n+1} = y_0 + \\int_{x_0}^{x}f(x, y_n)\\,dx$  \n",
    "\n",
    "### $y(x) = y_{n+1}$"
   ],
   "metadata": {}
  },
  {
   "cell_type": "code",
   "execution_count": 5,
   "source": [
    "def f(x, y):\n",
    "    return (x**0.5)/y + 2\n",
    "\n",
    "y0 = 1\n",
    "a, b = 0, 1\n",
    "n = 4\n",
    "\n",
    "# no need to modify\n",
    "h = (b - a)/n\n",
    "x = [a]+ [a+i*h for i in range(1, n)] +[b]\n",
    "# no need to modify\n",
    "\n",
    "x, h"
   ],
   "outputs": [
    {
     "output_type": "execute_result",
     "data": {
      "text/plain": [
       "([0, 0.25, 0.5, 0.75, 1], 0.25)"
      ]
     },
     "metadata": {},
     "execution_count": 5
    }
   ],
   "metadata": {}
  },
  {
   "cell_type": "markdown",
   "source": [
    "## Euler's method\n",
    "\n",
    "### $y_n = y_{n-1} + h\\,f(x_{n-1}, y_{n-1})$  \n",
    "\n",
    "where, \n",
    "### $h = \\frac{x_n - x_{n-1}}{n}$"
   ],
   "metadata": {}
  },
  {
   "cell_type": "code",
   "execution_count": 6,
   "source": [
    "y = euler_method(f, y0=y0, x=x, h=h)\n",
    "y, f(0.9, y)"
   ],
   "outputs": [
    {
     "output_type": "execute_result",
     "data": {
      "text/plain": [
       "(3.2493297926131177, 2.2919627611229885)"
      ]
     },
     "metadata": {},
     "execution_count": 6
    }
   ],
   "metadata": {}
  },
  {
   "cell_type": "markdown",
   "source": [
    "## Euler's Modified method\n",
    "\n",
    "### $y_{n+1} = y_{n} + h\\,f(x_{n}, y_{n})$  \n",
    "\n",
    "where, \n",
    "### $h = \\frac{x_{n+1} - x_{0}}{n}$\n",
    "\n",
    "### $y_{n+1}^m = y_n + \\frac{h}{2}[f(x_n, y_n) + f(x_{n+1}, y_{n+1}^{m-1})]$"
   ],
   "metadata": {}
  },
  {
   "cell_type": "code",
   "execution_count": 7,
   "source": [
    "y = euler_modified_method(f, y0=y0, x=x, h=h)\n",
    "y, f(0.9, y)"
   ],
   "outputs": [
    {
     "output_type": "execute_result",
     "data": {
      "text/plain": [
       "(3.2472274413902644, 2.292151786461975)"
      ]
     },
     "metadata": {},
     "execution_count": 7
    }
   ],
   "metadata": {}
  },
  {
   "cell_type": "markdown",
   "source": [
    "## Runge Kutta Method (order 2)\n",
    "\n",
    "### $y_{n+1} = y_n + \\frac{1}{2}(k_1+k_2)$  \n",
    "\n",
    "where,\n",
    "\n",
    "### $k_1 = h\\,f(x_n, y_n)$,  \n",
    "\n",
    "### $k_2 = h\\,f(x_n+h, y_n+k_1)$"
   ],
   "metadata": {}
  },
  {
   "cell_type": "code",
   "execution_count": 8,
   "source": [
    "y = runge_kutta_method_o2(f, y0=y0, x=x, h=h)\n",
    "y, f(0.9, y)"
   ],
   "outputs": [
    {
     "output_type": "stream",
     "name": "stdout",
     "text": [
      "y1=1.54167\n",
      "\tk1=0.50000\n",
      "\tk2=0.58333\n",
      "y2=2.12385\n",
      "\tk1=0.58108\n",
      "\tk2=0.58328\n",
      "y3=2.70545\n",
      "\tk1=0.58323\n",
      "\tk2=0.57998\n",
      "y4=3.28351\n",
      "\tk1=0.58003\n",
      "\tk2=0.57609\n"
     ]
    },
    {
     "output_type": "execute_result",
     "data": {
      "text/plain": [
       "(3.283511073336533, 2.2889234349639365)"
      ]
     },
     "metadata": {},
     "execution_count": 8
    }
   ],
   "metadata": {}
  },
  {
   "cell_type": "markdown",
   "source": [
    "## Runge Kutta Method (order 4)\n",
    "\n",
    "### $y_{n+1} = y_n + \\frac{1}{6}(k_1 + 2k_2 + 2k_3 + k_4)$\n",
    "\n",
    "where,\n",
    "  \n",
    "### $k_1 = h\\,f(x_n, y_n)$\n",
    "\n",
    "### $k_2 = h\\,f(x_n+\\frac{h}{2}, y_n+\\frac{k_1}{2})$\n",
    "\n",
    "### $k_3 = h\\,f(x_n+\\frac{h}{2}, y_n+\\frac{k_2}{2})$\n",
    "\n",
    "### $k_4 = h\\,f(x_n+h, y_n+k_3)$"
   ],
   "metadata": {}
  },
  {
   "cell_type": "code",
   "execution_count": 9,
   "source": [
    "y = runge_kutta_method_o4(f, y0=y0, x=x, h=h, precission=4,)\n",
    "y, f(0.9, y)"
   ],
   "outputs": [
    {
     "output_type": "stream",
     "name": "stdout",
     "text": [
      "y1=1.5598\n",
      "\tk1=0.5000\n",
      "\tk2=0.5707\n",
      "\tk3=0.5688\n",
      "\tk4=0.5797\n",
      "y2=2.1420\n",
      "\tk1=0.5801\n",
      "\tk2=0.5828\n",
      "\tk3=0.5827\n",
      "\tk4=0.5825\n",
      "y3=2.7232\n",
      "\tk1=0.5825\n",
      "\tk2=0.5812\n",
      "\tk3=0.5812\n",
      "\tk4=0.5795\n",
      "y4=3.3008\n",
      "\tk1=0.5795\n",
      "\tk2=0.5776\n",
      "\tk3=0.5776\n",
      "\tk4=0.5757\n"
     ]
    },
    {
     "output_type": "execute_result",
     "data": {
      "text/plain": [
       "(3.3008220836909237, 2.2874081892319724)"
      ]
     },
     "metadata": {},
     "execution_count": 9
    }
   ],
   "metadata": {}
  },
  {
   "cell_type": "markdown",
   "source": [
    "## Milne's Predictor Corrector Method\n",
    "\n",
    "Find the values of $y_1=y(x_1), y_2=y(x_3), y_3=y(x_3)$ using any method.  \n",
    "Now,\n",
    "\n",
    "### $y_1' = f(x_1, y_1)$\n",
    "\n",
    "### $y_2' = f(x_2, y_2)$\n",
    "\n",
    "### $y_3' = f(x_3, y_3)$\n",
    "\n",
    "### Predictor Formula\n",
    "\n",
    "### $y_4 = y_0 + \\frac{4h}{3}(2y_1' - y_2' + 2y_3')$\n",
    "\n",
    "### $y_4' = f(x_4, y_4)$\n",
    "\n",
    "### Corrector Formula\n",
    "### $y_4 = y_2 + \\frac{h}{3}(y_2' + 4y_3' + y_4')$"
   ],
   "metadata": {}
  },
  {
   "cell_type": "code",
   "execution_count": 10,
   "source": [
    "yl = [euler_method(f, y0=y0, x=x[:2], h=h), euler_method(f, y0=y0, x=x[:3], h=h), euler_method(f, y0=y0, x=x[:4], h=h)]\n",
    "milne_predictor_corrector_method(f, y0, x, h, yl)\n",
    "y, f(0, y)"
   ],
   "outputs": [
    {
     "output_type": "execute_result",
     "data": {
      "text/plain": [
       "(3.3008220836909237, 2.0)"
      ]
     },
     "metadata": {},
     "execution_count": 10
    }
   ],
   "metadata": {}
  }
 ],
 "metadata": {
  "orig_nbformat": 4,
  "language_info": {
   "name": "python",
   "version": "3.9.5",
   "mimetype": "text/x-python",
   "codemirror_mode": {
    "name": "ipython",
    "version": 3
   },
   "pygments_lexer": "ipython3",
   "nbconvert_exporter": "python",
   "file_extension": ".py"
  },
  "kernelspec": {
   "name": "python3",
   "display_name": "Python 3.9.5 64-bit"
  },
  "interpreter": {
   "hash": "916dbcbb3f70747c44a77c7bcd40155683ae19c65e1c03b4aa3499c5328201f1"
  }
 },
 "nbformat": 4,
 "nbformat_minor": 2
}
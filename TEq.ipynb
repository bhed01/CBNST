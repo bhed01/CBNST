{
 "cells": [
  {
   "cell_type": "code",
   "execution_count": 1,
   "source": [
    "import math"
   ],
   "outputs": [],
   "metadata": {}
  },
  {
   "cell_type": "markdown",
   "source": [
    "# Solution of Algebraic and Transcendental Equation"
   ],
   "metadata": {}
  },
  {
   "cell_type": "code",
   "execution_count": 2,
   "source": [
    "from transcendental_eq import (\n",
    "    BisectionMethod,\n",
    "    FalsePositionMethod,\n",
    "    NewtonRaphsonMethod,\n",
    "    SecantMethod,\n",
    "    iterative_method\n",
    ")"
   ],
   "outputs": [],
   "metadata": {}
  },
  {
   "cell_type": "code",
   "execution_count": 3,
   "source": [
    "def f(x: float) -> float:\n",
    "    return x**3-2*x-5"
   ],
   "outputs": [],
   "metadata": {}
  },
  {
   "cell_type": "markdown",
   "source": [
    "## Bisection Method\n",
    "\n",
    "### $c=\\frac{b-a}{2}$"
   ],
   "metadata": {}
  },
  {
   "cell_type": "code",
   "execution_count": 4,
   "source": [
    "BisectionMethod(f, 3).solve(2, 3, ep=1e-8)"
   ],
   "outputs": [
    {
     "output_type": "display_data",
     "data": {
      "text/html": [
       "<table>\n",
       "                    <tr><th>a</th><th>b</th><th>c</th><th>f(c)</th></tr>\n",
       "                    <tr><td>2.000</td><td>3.000</td><td>2.500</td><td>5.625</td></tr><tr><td>2.000</td><td>2.500</td><td>2.250</td><td>1.891</td></tr><tr><td>2.000</td><td>2.250</td><td>2.125</td><td>0.346</td></tr><tr><td>2.000</td><td>2.125</td><td>2.062</td><td>-0.351</td></tr><tr><td>2.062</td><td>2.125</td><td>2.094</td><td>-0.009</td></tr><tr><td>2.094</td><td>2.125</td><td>2.109</td><td>0.167</td></tr><tr><td>2.094</td><td>2.109</td><td>2.102</td><td>0.079</td></tr><tr><td>2.094</td><td>2.102</td><td>2.098</td><td>0.035</td></tr><tr><td>2.094</td><td>2.098</td><td>2.096</td><td>0.013</td></tr><tr><td>2.094</td><td>2.096</td><td>2.095</td><td>0.002</td></tr><tr><td>2.094</td><td>2.095</td><td>2.094</td><td>-0.003</td></tr><tr><td>2.094</td><td>2.095</td><td>2.094</td><td>-0.001</td></tr><tr><td>2.094</td><td>2.095</td><td>2.095</td><td>0.001</td></tr><tr><td>2.094</td><td>2.095</td><td>2.095</td><td>-0.000</td></tr><tr><td>2.095</td><td>2.095</td><td>2.095</td><td>0.000</td></tr><tr><td>2.095</td><td>2.095</td><td>2.095</td><td>0.000</td></tr><tr><td>2.095</td><td>2.095</td><td>2.095</td><td>-0.000</td></tr><tr><td>2.095</td><td>2.095</td><td>2.095</td><td>0.000</td></tr><tr><td>2.095</td><td>2.095</td><td>2.095</td><td>0.000</td></tr><tr><td>2.095</td><td>2.095</td><td>2.095</td><td>0.000</td></tr><tr><td>2.095</td><td>2.095</td><td>2.095</td><td>0.000</td></tr><tr><td>2.095</td><td>2.095</td><td>2.095</td><td>-0.000</td></tr><tr><td>2.095</td><td>2.095</td><td>2.095</td><td>-0.000</td></tr><tr><td>2.095</td><td>2.095</td><td>2.095</td><td>0.000</td></tr><tr><td>2.095</td><td>2.095</td><td>2.095</td><td>-0.000</td></tr><tr><td>2.095</td><td>2.095</td><td>2.095</td><td>0.000</td></tr><tr><td>2.095</td><td>2.095</td><td>2.095</td><td>-0.000</td></tr>\n",
       "                </table>"
      ],
      "text/plain": [
       "<IPython.core.display.HTML object>"
      ]
     },
     "metadata": {}
    },
    {
     "output_type": "execute_result",
     "data": {
      "text/plain": [
       "2.0945514887571335"
      ]
     },
     "metadata": {},
     "execution_count": 4
    }
   ],
   "metadata": {}
  },
  {
   "cell_type": "markdown",
   "source": [
    "## Regular Falsi / False Position Method\n",
    "\n",
    "### $c=\\frac{b\\times f(a) - a \\times f(b)}{f(a) - f(b)}$"
   ],
   "metadata": {}
  },
  {
   "cell_type": "code",
   "execution_count": 5,
   "source": [
    "FalsePositionMethod(f, 4).solve(2, 3, 1e-8)"
   ],
   "outputs": [
    {
     "output_type": "display_data",
     "data": {
      "text/html": [
       "<table>\n",
       "                    <tr><th>a</th><th>b</th><th>c</th><th>f(c)</th></tr>\n",
       "                    <tr><td>2.0000</td><td>3.0000</td><td>2.0588</td><td>-0.3908</td></tr><tr><td>2.0588</td><td>3.0000</td><td>2.0813</td><td>-0.1472</td></tr><tr><td>2.0813</td><td>3.0000</td><td>2.0896</td><td>-0.0547</td></tr><tr><td>2.0896</td><td>3.0000</td><td>2.0927</td><td>-0.0202</td></tr><tr><td>2.0927</td><td>3.0000</td><td>2.0939</td><td>-0.0075</td></tr><tr><td>2.0939</td><td>3.0000</td><td>2.0943</td><td>-0.0027</td></tr><tr><td>2.0943</td><td>3.0000</td><td>2.0945</td><td>-0.0010</td></tr><tr><td>2.0945</td><td>3.0000</td><td>2.0945</td><td>-0.0004</td></tr><tr><td>2.0945</td><td>3.0000</td><td>2.0945</td><td>-0.0001</td></tr><tr><td>2.0945</td><td>3.0000</td><td>2.0945</td><td>-0.0001</td></tr><tr><td>2.0945</td><td>3.0000</td><td>2.0945</td><td>-0.0000</td></tr><tr><td>2.0945</td><td>3.0000</td><td>2.0946</td><td>-0.0000</td></tr><tr><td>2.0946</td><td>3.0000</td><td>2.0946</td><td>-0.0000</td></tr><tr><td>2.0946</td><td>3.0000</td><td>2.0946</td><td>-0.0000</td></tr><tr><td>2.0946</td><td>3.0000</td><td>2.0946</td><td>-0.0000</td></tr><tr><td>2.0946</td><td>3.0000</td><td>2.0946</td><td>-0.0000</td></tr><tr><td>2.0946</td><td>3.0000</td><td>2.0946</td><td>-0.0000</td></tr><tr><td>2.0946</td><td>3.0000</td><td>2.0946</td><td>-0.0000</td></tr><tr><td>2.0946</td><td>3.0000</td><td>2.0946</td><td>-0.0000</td></tr>\n",
       "                </table>"
      ],
      "text/plain": [
       "<IPython.core.display.HTML object>"
      ]
     },
     "metadata": {}
    },
    {
     "output_type": "execute_result",
     "data": {
      "text/plain": [
       "2.0945514800062215"
      ]
     },
     "metadata": {},
     "execution_count": 5
    }
   ],
   "metadata": {}
  },
  {
   "cell_type": "markdown",
   "source": [
    "## Newton Raphson Method\n",
    "\n",
    "### $x_{i+1}=x_i-\\frac{f(x_i)}{f'(x_i)}$\n",
    "\n",
    "It has quadratic convergence."
   ],
   "metadata": {}
  },
  {
   "cell_type": "code",
   "execution_count": 6,
   "source": [
    "def fd(x: float) -> float:\n",
    "    return 3*x**2-2\n",
    "NewtonRaphsonMethod(f, fd, 3).solve(3, 1e-8)"
   ],
   "outputs": [
    {
     "output_type": "display_data",
     "data": {
      "text/html": [
       "<table>\n",
       "                    <tr><th>x<sub>i-0</sub></th><th>x<sub>i</sub></th><th>f(x<sub>i</sub>)</th></tr>\n",
       "                    <tr><td>3.000</td><td>2.360</td><td>3.424</td></tr><tr><td>2.360</td><td>2.127</td><td>0.371</td></tr><tr><td>2.127</td><td>2.095</td><td>0.007</td></tr><tr><td>2.095</td><td>2.095</td><td>0.000</td></tr><tr><td>2.095</td><td>2.095</td><td>0.000</td></tr>\n",
       "                </table>"
      ],
      "text/plain": [
       "<IPython.core.display.HTML object>"
      ]
     },
     "metadata": {}
    },
    {
     "output_type": "execute_result",
     "data": {
      "text/plain": [
       "2.0945514815423474"
      ]
     },
     "metadata": {},
     "execution_count": 6
    }
   ],
   "metadata": {}
  },
  {
   "cell_type": "markdown",
   "source": [
    "## Secant Method\n",
    "\n",
    "### $x_{i+1}=\\frac{x_i\\times f(x_{i-1}) - x_{i-1} \\times f(x_i)}{f(x_{i-1}) - f(x_i)}$"
   ],
   "metadata": {}
  },
  {
   "cell_type": "code",
   "execution_count": 7,
   "source": [
    "SecantMethod(f, 3).solve(3, 2.5, 1e-8)"
   ],
   "outputs": [
    {
     "output_type": "display_data",
     "data": {
      "text/html": [
       "<table>\n",
       "                    <tr><th>x<sub>i-0</sub></th><th>x<sub>i</sub></th><th>x<sub>i+1</sub></th><th>f(x<sub>i+1</sub>)</th></tr>\n",
       "                    <tr><td>3.000</td><td>2.500</td><td>2.229</td><td>1.616</td></tr><tr><td>2.500</td><td>2.229</td><td>2.120</td><td>0.285</td></tr><tr><td>2.229</td><td>2.120</td><td>2.096</td><td>0.020</td></tr><tr><td>2.120</td><td>2.096</td><td>2.095</td><td>0.000</td></tr><tr><td>2.096</td><td>2.095</td><td>2.095</td><td>0.000</td></tr><tr><td>2.095</td><td>2.095</td><td>2.095</td><td>0.000</td></tr>\n",
       "                </table>"
      ],
      "text/plain": [
       "<IPython.core.display.HTML object>"
      ]
     },
     "metadata": {}
    },
    {
     "output_type": "execute_result",
     "data": {
      "text/plain": [
       "2.09455148154268"
      ]
     },
     "metadata": {},
     "execution_count": 7
    }
   ],
   "metadata": {}
  },
  {
   "cell_type": "markdown",
   "source": [
    "## Iterative Method\n",
    "\n",
    "### $x=f(x)$"
   ],
   "metadata": {}
  },
  {
   "cell_type": "code",
   "execution_count": 8,
   "source": [
    "def f(x):\n",
    "    return (math.cos(x) + 3)/2\n",
    "iterative_method(f, math.pi/2, precission=3, iter=5)"
   ],
   "outputs": [
    {
     "output_type": "display_data",
     "data": {
      "text/html": [
       "<table>\n",
       "                    <tr><th>x</th><th>f(x)</th></tr>\n",
       "                    <tr><td>1.571</td><td>1.500</td></tr><tr><td>1.500</td><td>1.535</td></tr><tr><td>1.535</td><td>1.518</td></tr><tr><td>1.518</td><td>1.527</td></tr><tr><td>1.527</td><td>1.522</td></tr><tr><td>1.522</td><td>1.524</td></tr>\n",
       "                </table>"
      ],
      "text/plain": [
       "<IPython.core.display.HTML object>"
      ]
     },
     "metadata": {}
    },
    {
     "output_type": "execute_result",
     "data": {
      "text/plain": [
       "1.52432574357899"
      ]
     },
     "metadata": {},
     "execution_count": 8
    }
   ],
   "metadata": {}
  }
 ],
 "metadata": {
  "orig_nbformat": 4,
  "language_info": {
   "name": "python",
   "version": "3.9.5",
   "mimetype": "text/x-python",
   "codemirror_mode": {
    "name": "ipython",
    "version": 3
   },
   "pygments_lexer": "ipython3",
   "nbconvert_exporter": "python",
   "file_extension": ".py"
  },
  "kernelspec": {
   "name": "python3",
   "display_name": "Python 3.9.5 64-bit"
  },
  "interpreter": {
   "hash": "916dbcbb3f70747c44a77c7bcd40155683ae19c65e1c03b4aa3499c5328201f1"
  }
 },
 "nbformat": 4,
 "nbformat_minor": 2
}
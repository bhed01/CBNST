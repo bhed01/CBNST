{
 "cells": [
  {
   "cell_type": "code",
   "execution_count": 1,
   "source": [
    "import math"
   ],
   "outputs": [],
   "metadata": {}
  },
  {
   "cell_type": "markdown",
   "source": [
    "# Inerpolation"
   ],
   "metadata": {}
  },
  {
   "cell_type": "code",
   "execution_count": 2,
   "source": [
    "from interpolation import (\n",
    "    NewtonForward, \n",
    "    NewtonBackward, \n",
    "    GaussForward, \n",
    "    GaussBackward, \n",
    "    Stirling,\n",
    "    LagrangeInterpolation,\n",
    "    NewtonDividedDifference\n",
    ")"
   ],
   "outputs": [],
   "metadata": {}
  },
  {
   "cell_type": "code",
   "execution_count": 3,
   "source": [
    "data = [(1.8, 6.0496), (2.0, 7.3890), (2.2, 9.0250), (2.4, 11.023), (2.6, 13.464)]"
   ],
   "outputs": [],
   "metadata": {}
  },
  {
   "cell_type": "markdown",
   "source": [
    "## Newton's Forward Interpolation\n",
    "\n",
    "### $f(x) = y_0 + n\\triangle y_0 + \\frac{n(n-1)}{2!}\\triangle^2y_0+ \\frac{n(n-1)(n-2)}{3!}\\triangle^3y_0 + \\frac{n(n-1)(n-2)(n-3)}{4!}\\triangle^4y_0 + ...$\n",
    "\n",
    "### $f'(x) = \\frac{1}{h}(\\triangle y_0 + \\frac{2n-1}{2!}\\triangle^2y_0+ \\frac{3n^2 - 6n + 2}{3!}\\triangle^3y_0 + \\frac{4n^3 - 18n^2 + 22n - 6}{4!}\\triangle^4y_0 + ...)$"
   ],
   "metadata": {}
  },
  {
   "cell_type": "code",
   "execution_count": 4,
   "source": [
    "NewtonForward(data).solve(2.1)"
   ],
   "outputs": [
    {
     "output_type": "display_data",
     "data": {
      "text/html": [
       "<table>\n",
       "                    <tr><th>x</th><th>y</th><th>△y</th><th>△<sup>2</sup>y</th><th>△<sup>3</sup>y</th><th>△<sup>4</sup>y</th></tr>\n",
       "                    <tr><td>1.80000</td><td>6.04960</td><td>1.33940</td><td>0.29660</td><td>0.06540</td><td>0.01560</td></tr><tr><td>2.00000</td><td>7.38900</td><td>1.63600</td><td>0.36200</td><td>0.08100</td></tr><tr><td>2.20000</td><td>9.02500</td><td>1.99800</td><td>0.44300</td></tr><tr><td>2.40000</td><td>11.02300</td><td>2.44100</td></tr><tr><td>2.60000</td><td>13.46400</td></tr>\n",
       "                </table>"
      ],
      "text/plain": [
       "<IPython.core.display.HTML object>"
      ]
     },
     "metadata": {}
    },
    {
     "output_type": "execute_result",
     "data": {
      "text/plain": [
       "8.166203125000001"
      ]
     },
     "metadata": {},
     "execution_count": 4
    }
   ],
   "metadata": {}
  },
  {
   "cell_type": "markdown",
   "source": [
    "## Newton's Backward Interpolation\n",
    "\n",
    "### $f(x) = y_0 + n\\triangle y_0 + \\frac{n(n+1)}{2!}\\triangle^2y_0+ \\frac{n(n+1)(n+2)}{3!}\\triangle^3y_0 + \\frac{n(n+1)(n+2)(n+3)}{4!}\\triangle^4y_0 + ...$\n",
    "\n",
    "### $f'(x) = \\frac{1}{h}(\\triangle y_0 + \\frac{2n+1}{2!}\\triangle^2y_0+ \\frac{3n^2 + 6n + 2}{3!}\\triangle^3y_0 + \\frac{4n^3 + 18n^2 + 22n + 6}{4!}\\triangle^4y_0 + ...)$"
   ],
   "metadata": {}
  },
  {
   "cell_type": "code",
   "execution_count": 5,
   "source": [
    "NewtonBackward(data).solve(2.1)"
   ],
   "outputs": [
    {
     "output_type": "display_data",
     "data": {
      "text/html": [
       "<table>\n",
       "                    <tr><th>x</th><th>y</th><th>△y</th><th>△<sup>2</sup>y</th><th>△<sup>3</sup>y</th><th>△<sup>4</sup>y</th></tr>\n",
       "                    <tr><td>1.80000</td><td>6.04960</td><td>1.33940</td><td>0.29660</td><td>0.06540</td><td>0.01560</td></tr><tr><td>2.00000</td><td>7.38900</td><td>1.63600</td><td>0.36200</td><td>0.08100</td></tr><tr><td>2.20000</td><td>9.02500</td><td>1.99800</td><td>0.44300</td></tr><tr><td>2.40000</td><td>11.02300</td><td>2.44100</td></tr><tr><td>2.60000</td><td>13.46400</td></tr>\n",
       "                </table>"
      ],
      "text/plain": [
       "<IPython.core.display.HTML object>"
      ]
     },
     "metadata": {}
    },
    {
     "output_type": "execute_result",
     "data": {
      "text/plain": [
       "8.166203125000001"
      ]
     },
     "metadata": {},
     "execution_count": 5
    }
   ],
   "metadata": {}
  },
  {
   "cell_type": "markdown",
   "source": [
    "## Gauss's Forward Interpolation\n",
    "\n",
    "### $f(x) = y_0 + n\\triangle y_0 + \\frac{n(n-1)}{2!}\\triangle^2y_{-1}+ \\frac{(n-1)n(n+1)}{3!}\\triangle^3y_{-1} + \\frac{(n-2)(n-1)n(n+1)}{4!}\\triangle^4y_{-2} + \\frac{(n-2)(n-1)n(n+1)(n+2)}{5!}\\triangle^5y_{-2} + ...$"
   ],
   "metadata": {}
  },
  {
   "cell_type": "code",
   "execution_count": 6,
   "source": [
    "GaussForward(data).solve(2.1)"
   ],
   "outputs": [
    {
     "output_type": "display_data",
     "data": {
      "text/html": [
       "<table>\n",
       "                    <tr><th>x</th><th>y</th><th>△y</th><th>△<sup>2</sup>y</th><th>△<sup>3</sup>y</th><th>△<sup>4</sup>y</th></tr>\n",
       "                    <tr><td>1.80000</td><td>6.04960</td><td>1.33940</td><td>0.29660</td><td>0.06540</td><td>0.01560</td></tr><tr><td>2.00000</td><td>7.38900</td><td>1.63600</td><td>0.36200</td><td>0.08100</td></tr><tr><td>2.20000</td><td>9.02500</td><td>1.99800</td><td>0.44300</td></tr><tr><td>2.40000</td><td>11.02300</td><td>2.44100</td></tr><tr><td>2.60000</td><td>13.46400</td></tr>\n",
       "                </table>"
      ],
      "text/plain": [
       "<IPython.core.display.HTML object>"
      ]
     },
     "metadata": {}
    },
    {
     "output_type": "execute_result",
     "data": {
      "text/plain": [
       "8.1658375"
      ]
     },
     "metadata": {},
     "execution_count": 6
    }
   ],
   "metadata": {}
  },
  {
   "cell_type": "markdown",
   "source": [
    "## Gauss's Backward Interpolation\n",
    "\n",
    "### $f(x) = y_0 + n\\triangle y_{-1} + \\frac{n(n+1)}{2!}\\triangle^2y_{-1}+ \\frac{(n-1)n(n+1)}{3!}\\triangle^3y_{-2} + \\frac{(n-1)n(n+1)(n+2)}{4!}\\triangle^4y_{-2} + \\frac{(n-2)(n-1)n(n+1)(n+2)}{5!}\\triangle^5y_{-3} + ...$"
   ],
   "metadata": {}
  },
  {
   "cell_type": "code",
   "execution_count": 7,
   "source": [
    "GaussBackward(data).solve(2.1)"
   ],
   "outputs": [
    {
     "output_type": "display_data",
     "data": {
      "text/html": [
       "<table>\n",
       "                    <tr><th>x</th><th>y</th><th>△y</th><th>△<sup>2</sup>y</th><th>△<sup>3</sup>y</th><th>△<sup>4</sup>y</th></tr>\n",
       "                    <tr><td>1.80000</td><td>6.04960</td><td>1.33940</td><td>0.29660</td><td>0.06540</td><td>0.01560</td></tr><tr><td>2.00000</td><td>7.38900</td><td>1.63600</td><td>0.36200</td><td>0.08100</td></tr><tr><td>2.20000</td><td>9.02500</td><td>1.99800</td><td>0.44300</td></tr><tr><td>2.40000</td><td>11.02300</td><td>2.44100</td></tr><tr><td>2.60000</td><td>13.46400</td></tr>\n",
       "                </table>"
      ],
      "text/plain": [
       "<IPython.core.display.HTML object>"
      ]
     },
     "metadata": {}
    },
    {
     "output_type": "execute_result",
     "data": {
      "text/plain": [
       "8.169925000000001"
      ]
     },
     "metadata": {},
     "execution_count": 7
    }
   ],
   "metadata": {}
  },
  {
   "cell_type": "markdown",
   "source": [
    "## Stirling Interpolation\n",
    "\n",
    "### $f(x) = y_0 + \\frac{\\triangle y_{0} + \\triangle y_{-1}}{2}n + \\frac{n^2}{2!}\\triangle^2y_{-1} + \\frac{p(p^2-1)}{3!}\\times\\frac{\\triangle^3y_{-1} + \\triangle^3y_{-2}}{2} + \\frac{n^2(n^2-1)}{4!}\\triangle^4y_{-2} + ...$"
   ],
   "metadata": {}
  },
  {
   "cell_type": "code",
   "execution_count": 8,
   "source": [
    "Stirling(data).solve(2.1)"
   ],
   "outputs": [
    {
     "output_type": "display_data",
     "data": {
      "text/html": [
       "<table>\n",
       "                    <tr><th>x</th><th>y</th><th>△y</th><th>△<sup>2</sup>y</th><th>△<sup>3</sup>y</th><th>△<sup>4</sup>y</th></tr>\n",
       "                    <tr><td>1.80000</td><td>6.04960</td><td>1.33940</td><td>0.29660</td><td>0.06540</td><td>0.01560</td></tr><tr><td>2.00000</td><td>7.38900</td><td>1.63600</td><td>0.36200</td><td>0.08100</td></tr><tr><td>2.20000</td><td>9.02500</td><td>1.99800</td><td>0.44300</td></tr><tr><td>2.40000</td><td>11.02300</td><td>2.44100</td></tr><tr><td>2.60000</td><td>13.46400</td></tr>\n",
       "                </table>"
      ],
      "text/plain": [
       "<IPython.core.display.HTML object>"
      ]
     },
     "metadata": {}
    },
    {
     "output_type": "execute_result",
     "data": {
      "text/plain": [
       "8.169925000000001"
      ]
     },
     "metadata": {},
     "execution_count": 8
    }
   ],
   "metadata": {}
  },
  {
   "cell_type": "code",
   "execution_count": 9,
   "source": [
    "data = [(15, 24), (18, 37), (22, 25)]"
   ],
   "outputs": [],
   "metadata": {}
  },
  {
   "cell_type": "markdown",
   "source": [
    "## Lagrange's Interpolation\n",
    "\n",
    "### $f(x) = \\frac{(x-x_1)(x-x_2)}{(x_0-x_1)(x_0-x_2)}y_0 + \\frac{(x-x_0)(x-x_2)}{(x_1-x_0)(x_1-x_2)}y_1 + \\frac{(x-x_0)(x-x_1)}{(x_2-x_0)(x_2-x_1)}y_2$"
   ],
   "metadata": {}
  },
  {
   "cell_type": "code",
   "execution_count": 10,
   "source": [
    "LagrangeInterpolation(data).solve(21.858)"
   ],
   "outputs": [
    {
     "output_type": "display_data",
     "data": {
      "text/html": [
       "<table>\n",
       "                    <tr><th>L(x)</th><th>y</th></tr>\n",
       "                    <tr><td>-0.02609</td><td>24.00000</td></tr><tr><td>0.08115</td><td>37.00000</td></tr><tr><td>0.94493</td><td>25.00000</td></tr>\n",
       "                </table>"
      ],
      "text/plain": [
       "<IPython.core.display.HTML object>"
      ]
     },
     "metadata": {}
    },
    {
     "output_type": "execute_result",
     "data": {
      "text/plain": [
       "25.99992342857142"
      ]
     },
     "metadata": {},
     "execution_count": 10
    }
   ],
   "metadata": {}
  },
  {
   "cell_type": "markdown",
   "source": [
    "## Newton's Divided Difference Interpolation\n",
    "\n",
    "### $f(x) = y_0 + (x-x_0)\\triangle y_0 + (x-x_0)(x-x_1)\\triangle^2y_0 + (x-x_0)(x-x_1)(x-x_2)\\triangle^3y_0 + ...$"
   ],
   "metadata": {}
  },
  {
   "cell_type": "code",
   "execution_count": 11,
   "source": [
    "NewtonDividedDifference(data).solve(21.858)"
   ],
   "outputs": [
    {
     "output_type": "display_data",
     "data": {
      "text/html": [
       "<table>\n",
       "                    <tr><th>x</th><th>y</th><th>◭y</th><th>◭<sup>2</sup>y</th></tr>\n",
       "                    <tr><td>15.00000</td><td>24.00000</td><td>4.33333</td><td>-1.04762</td></tr><tr><td>18.00000</td><td>37.00000</td><td>-3.00000</td></tr><tr><td>22.00000</td><td>25.00000</td></tr>\n",
       "                </table>"
      ],
      "text/plain": [
       "<IPython.core.display.HTML object>"
      ]
     },
     "metadata": {}
    },
    {
     "output_type": "execute_result",
     "data": {
      "text/plain": [
       "25.999923428571424"
      ]
     },
     "metadata": {},
     "execution_count": 11
    }
   ],
   "metadata": {}
  }
 ],
 "metadata": {
  "orig_nbformat": 4,
  "language_info": {
   "name": "python",
   "version": "3.9.5",
   "mimetype": "text/x-python",
   "codemirror_mode": {
    "name": "ipython",
    "version": 3
   },
   "pygments_lexer": "ipython3",
   "nbconvert_exporter": "python",
   "file_extension": ".py"
  },
  "kernelspec": {
   "name": "python3",
   "display_name": "Python 3.9.5 64-bit"
  },
  "interpreter": {
   "hash": "916dbcbb3f70747c44a77c7bcd40155683ae19c65e1c03b4aa3499c5328201f1"
  }
 },
 "nbformat": 4,
 "nbformat_minor": 2
}
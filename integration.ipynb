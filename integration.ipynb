{
 "cells": [
  {
   "cell_type": "code",
   "execution_count": 1,
   "source": [
    "import math"
   ],
   "outputs": [],
   "metadata": {}
  },
  {
   "cell_type": "markdown",
   "source": [
    "# Numerical Integration"
   ],
   "metadata": {}
  },
  {
   "cell_type": "code",
   "execution_count": 2,
   "source": [
    "from integration import (\n",
    "    trapezoidal_rule,\n",
    "    simpson_1_3_rule,\n",
    "    simpson_3_8_rule,\n",
    "    waddle_rule\n",
    ")"
   ],
   "outputs": [],
   "metadata": {}
  },
  {
   "cell_type": "code",
   "execution_count": 3,
   "source": [
    "y = [22, 24, 37, 46]\n",
    "xl = [4, 7, 10, 15]\n",
    "h = 3"
   ],
   "outputs": [],
   "metadata": {}
  },
  {
   "cell_type": "markdown",
   "source": [
    "## Trapezoidal Rule (n = 1)\n",
    "\n",
    "### $\\int_{x_0}^{x_n} y\\,dx = \\frac{h}{2}[(y_0+y_n) + 2(y_1+y_2+y_3+ ... +y_{n-1})]$"
   ],
   "metadata": {}
  },
  {
   "cell_type": "code",
   "execution_count": 4,
   "source": [
    "trapezoidal_rule(y, h)"
   ],
   "outputs": [
    {
     "output_type": "execute_result",
     "data": {
      "text/plain": [
       "285.0"
      ]
     },
     "metadata": {},
     "execution_count": 4
    }
   ],
   "metadata": {}
  },
  {
   "cell_type": "markdown",
   "source": [
    "## Simpson's 1/3 Rule (n = 2)\n",
    "\n",
    "### $\\int_{x_0}^{x_n} y\\,dx = \\frac{h}{3}[(y_0+y_n) + 4(y_1+y_3+y_5+ ... +y_{n-1}) + 2(y_2+y_4+y_6+ ... +y_{n-2})]$"
   ],
   "metadata": {}
  },
  {
   "cell_type": "code",
   "execution_count": 5,
   "source": [
    "simpson_1_3_rule(y[1:], h)"
   ],
   "outputs": [
    {
     "output_type": "execute_result",
     "data": {
      "text/plain": [
       "218.0"
      ]
     },
     "metadata": {},
     "execution_count": 5
    }
   ],
   "metadata": {}
  },
  {
   "cell_type": "markdown",
   "source": [
    "## Simpson's 3/8 Rule (n = 3)\n",
    "\n",
    "### $\\int_{x_0}^{x_n} y\\,dx = \\frac{3h}{8}[(y_0+y_n) + 3(y_1+y_2+y_4+y_5+y_7 ... +y_{n-1}) + 2(y_3+y_6+y_9+ ... +y_{n-3})]$"
   ],
   "metadata": {}
  },
  {
   "cell_type": "code",
   "execution_count": 6,
   "source": [
    "simpson_3_8_rule(y, h)"
   ],
   "outputs": [
    {
     "output_type": "execute_result",
     "data": {
      "text/plain": [
       "282.375"
      ]
     },
     "metadata": {},
     "execution_count": 6
    }
   ],
   "metadata": {}
  },
  {
   "cell_type": "markdown",
   "source": [
    "## Waddle's Rule (n = 6)\n",
    "\n",
    "### $\\int_{x_0}^{x_n} y\\,dx = \\frac{3h}{10}[(y_0+5y_1)+(y_2+6y_3)+(y_4+5y_5)+y_6+(y_6+5y_7)+(y_8+6y_9)+(y_10+5y_11)+y_12 + ...]$"
   ],
   "metadata": {}
  },
  {
   "cell_type": "code",
   "execution_count": 7,
   "source": [
    "waddle_rule([19,20,21]+y, h)"
   ],
   "outputs": [
    {
     "output_type": "execute_result",
     "data": {
      "text/plain": [
       "474.3"
      ]
     },
     "metadata": {},
     "execution_count": 7
    }
   ],
   "metadata": {}
  }
 ],
 "metadata": {
  "orig_nbformat": 4,
  "language_info": {
   "name": "python",
   "version": "3.9.5",
   "mimetype": "text/x-python",
   "codemirror_mode": {
    "name": "ipython",
    "version": 3
   },
   "pygments_lexer": "ipython3",
   "nbconvert_exporter": "python",
   "file_extension": ".py"
  },
  "kernelspec": {
   "name": "python3",
   "display_name": "Python 3.9.5 64-bit"
  },
  "interpreter": {
   "hash": "916dbcbb3f70747c44a77c7bcd40155683ae19c65e1c03b4aa3499c5328201f1"
  }
 },
 "nbformat": 4,
 "nbformat_minor": 2
}